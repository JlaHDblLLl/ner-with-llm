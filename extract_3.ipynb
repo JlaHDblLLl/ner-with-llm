{
 "cells": [
  {
   "cell_type": "markdown",
   "id": "3f2e8f34",
   "metadata": {},
   "source": [
    "### Third task\n",
    "Extract product characteristics from the specified files and generate an Excel file with product serial numbers and their characteristics."
   ]
  },
  {
   "cell_type": "code",
   "execution_count": 1,
   "id": "3b99fcec",
   "metadata": {},
   "outputs": [],
   "source": [
    "import os\n",
    "from collections import defaultdict\n",
    "def get_files_by_format(folder_path):\n",
    "    files_by_format = defaultdict(list)\n",
    "\n",
    "    for root, dirs, files in os.walk(folder_path):\n",
    "        for file in files:\n",
    "            file_path = os.path.join(root, file)\n",
    "            \n",
    "            _, extension = os.path.splitext(file)\n",
    "            format_name = extension.lower() if extension else '<empty>'\n",
    "            \n",
    "            files_by_format[format_name].append(file_path)\n",
    "    \n",
    "    return dict(files_by_format)"
   ]
  },
  {
   "cell_type": "code",
   "execution_count": 2,
   "id": "25b7bb2d",
   "metadata": {},
   "outputs": [],
   "source": [
    "files_by_format = get_files_by_format(\"./files\")"
   ]
  },
  {
   "cell_type": "code",
   "execution_count": 7,
   "id": "8a1804d4",
   "metadata": {},
   "outputs": [],
   "source": [
    "from docx import Document\n",
    "def docx_to_markdown_tables_list(file_path):\n",
    "    doc = Document(file_path)\n",
    "    \n",
    "    data = []\n",
    "    for table in doc.tables:\n",
    "        for row in table.rows:\n",
    "            row_data = [cell.text.strip() for cell in row.cells]\n",
    "            data.append(row_data)\n",
    "\n",
    "            \n",
    "    headers = data[0]\n",
    "    table_lines = [\n",
    "        '| ' + ' | '.join(headers) + ' |',\n",
    "        '| ' + ' | '.join(['---'] * len(headers)) + ' |'\n",
    "    ]\n",
    "    \n",
    "    for row in data[1:]:\n",
    "        table_lines.append('| ' + ' | '.join(row) + ' |')\n",
    "    \n",
    "    return '\\n'.join(table_lines)"
   ]
  },
  {
   "cell_type": "code",
   "execution_count": 13,
   "id": "3dea455e",
   "metadata": {},
   "outputs": [],
   "source": [
    "import pandas as pd\n",
    "\n",
    "lamp = pd.read_excel(\"./tasks/Памятка.xlsx\", sheet_name=\"Светильники\")\n",
    "battery = pd.read_excel(\"./tasks/Памятка.xlsx\", sheet_name=\"Аккумуляторы\")"
   ]
  },
  {
   "cell_type": "code",
   "execution_count": 23,
   "id": "3b1270f7",
   "metadata": {},
   "outputs": [],
   "source": [
    "lamp_characteristics = lamp.columns.to_list()\n",
    "battery_characteristics = battery.columns.to_list()\n",
    "\n",
    "product_characteristics = {\"Lamp\": lamp_characteristics, \"Battery\": battery_characteristics}"
   ]
  },
  {
   "cell_type": "code",
   "execution_count": 24,
   "id": "71180fcc",
   "metadata": {},
   "outputs": [],
   "source": [
    "from langchain_openai import ChatOpenAI\n",
    "from langchain_core.prompts import PromptTemplate\n",
    "from langchain_core.output_parsers import JsonOutputParser\n",
    "\n",
    "def extract_columns_info_from_text(text, json_schema: dict):\n",
    "    llm = ChatOpenAI(model=\"gpt-4o-mini\")\n",
    "    prompt = PromptTemplate(template=\"\"\"[TASK] Extract structured information from the markdown table in text below. \\\n",
    "If there are many objects, then return a list of JSON objects.\n",
    "\n",
    "[TEXT]\n",
    "{text}\n",
    "\n",
    "[OUTPUT REQUIREMENTS]\n",
    "- Format: list of JSONs\n",
    "- Schema:\n",
    "{json_schema}\n",
    "\n",
    "[INSTRUCTIONS]\n",
    "1. Strictly adhere to the specified schema\n",
    "2. Use the correct data types and metrics\n",
    "3. Use null for missing data\n",
    "4. Do not add explanations to the output\n",
    "5. Check the validity of the JSON\n",
    "\n",
    "[OUTPUT]\"\"\", input_variables=[\"text\", \"json_schema\"])\n",
    "    \n",
    "    chain = prompt | llm | JsonOutputParser()\n",
    "\n",
    "    response = chain.invoke({\"json_schema\": json_schema, \"text\": text})\n",
    "    \n",
    "    return response"
   ]
  },
  {
   "cell_type": "code",
   "execution_count": 35,
   "id": "7c6bd3fe",
   "metadata": {},
   "outputs": [],
   "source": [
    "data_for_df = {\"Lamp\": [], \"Battery\": []}"
   ]
  },
  {
   "cell_type": "code",
   "execution_count": 38,
   "id": "e2eb1b47",
   "metadata": {},
   "outputs": [],
   "source": [
    "for product, characteristics in product_characteristics.items():\n",
    "    json_schema = {characteristic : f\"data{i}\" for i, characteristic in enumerate(characteristics)}\n",
    "    for file_path in files_by_format[\".docx\"]:\n",
    "        markdown_text = docx_to_markdown_tables_list(file_path)\n",
    "        result = extract_columns_info_from_text(markdown_text, json_schema)\n",
    "        for i, characteristics_from_llm in enumerate(result):\n",
    "            data_for_df[product].append([i+1] + [val for key, val in characteristics_from_llm.items()] + [file_path])\n"
   ]
  },
  {
   "cell_type": "code",
   "execution_count": 37,
   "id": "379f943f",
   "metadata": {},
   "outputs": [
    {
     "data": {
      "text/plain": [
       "{'Lamp': [], 'Battery': []}"
      ]
     },
     "execution_count": 37,
     "metadata": {},
     "output_type": "execute_result"
    }
   ],
   "source": [
    "data_for_df"
   ]
  },
  {
   "cell_type": "markdown",
   "id": "7f0656ef",
   "metadata": {},
   "source": [
    "For pdf using llm"
   ]
  },
  {
   "cell_type": "code",
   "execution_count": 39,
   "id": "520bab1f",
   "metadata": {},
   "outputs": [],
   "source": [
    "import pymupdf4llm\n",
    "def convert_pdf_to_md_text(file_path):\n",
    "    md_text = pymupdf4llm.to_markdown(file_path)\n",
    "    return md_text"
   ]
  },
  {
   "cell_type": "code",
   "execution_count": 40,
   "id": "a3251d7a",
   "metadata": {},
   "outputs": [],
   "source": [
    "for product, characteristics in product_characteristics.items():\n",
    "    json_schema = {characteristic : f\"data{i}\" for i, characteristic in enumerate(characteristics)}\n",
    "    md_text = convert_pdf_to_md_text(files_by_format[\".pdf\"][0])\n",
    "    result = extract_columns_info_from_text(md_text, json_schema)\n",
    "    for i, characteristics_from_llm in enumerate(result):\n",
    "        data_for_df[product].append([i+1] + [val for key, val in characteristics_from_llm.items()] + [file_path])"
   ]
  },
  {
   "cell_type": "code",
   "execution_count": 41,
   "id": "c5138e11",
   "metadata": {},
   "outputs": [],
   "source": [
    "lamp_df = pd.DataFrame(data_for_df[\"Lamp\"], columns=[\"№\"] + [val for val in product_characteristics[\"Lamp\"]] + [\"document_from\"])\n",
    "battery_df = pd.DataFrame(data_for_df[\"Battery\"], columns=[\"№\"] + [val for val in product_characteristics[\"Battery\"]] + [\"document_from\"])"
   ]
  },
  {
   "cell_type": "code",
   "execution_count": 42,
   "id": "eab1e684",
   "metadata": {},
   "outputs": [],
   "source": [
    "lamp_df.to_excel(\"./results/extract3_lamp.xlsx\", index=False)\n",
    "battery_df.to_excel(\"./results/extract3_battery.xlsx\", index=False)"
   ]
  },
  {
   "cell_type": "code",
   "execution_count": null,
   "id": "d6d66875",
   "metadata": {},
   "outputs": [],
   "source": []
  }
 ],
 "metadata": {
  "kernelspec": {
   "display_name": "ner-with-llm",
   "language": "python",
   "name": "python3"
  },
  "language_info": {
   "codemirror_mode": {
    "name": "ipython",
    "version": 3
   },
   "file_extension": ".py",
   "mimetype": "text/x-python",
   "name": "python",
   "nbconvert_exporter": "python",
   "pygments_lexer": "ipython3",
   "version": "3.11.12"
  }
 },
 "nbformat": 4,
 "nbformat_minor": 5
}
