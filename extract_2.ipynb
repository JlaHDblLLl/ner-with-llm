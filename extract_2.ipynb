{
 "cells": [
  {
   "cell_type": "markdown",
   "id": "3f2e8f34",
   "metadata": {},
   "source": [
    "### Second task\n",
    "Extract the quantity of products from the specified files and create an Excel file with the product serial numbers and their conversion."
   ]
  },
  {
   "cell_type": "code",
   "execution_count": 16,
   "id": "3b99fcec",
   "metadata": {},
   "outputs": [],
   "source": [
    "import os\n",
    "from collections import defaultdict\n",
    "def get_files_by_format(folder_path):\n",
    "    files_by_format = defaultdict(list)\n",
    "\n",
    "    for root, dirs, files in os.walk(folder_path):\n",
    "        for file in files:\n",
    "            file_path = os.path.join(root, file)\n",
    "            \n",
    "            _, extension = os.path.splitext(file)\n",
    "            format_name = extension.lower() if extension else '<empty>'\n",
    "            \n",
    "            files_by_format[format_name].append(file_path)\n",
    "    \n",
    "    return dict(files_by_format)"
   ]
  },
  {
   "cell_type": "code",
   "execution_count": 17,
   "id": "25b7bb2d",
   "metadata": {},
   "outputs": [],
   "source": [
    "files_by_format = get_files_by_format(\"./files\")"
   ]
  },
  {
   "cell_type": "code",
   "execution_count": 33,
   "id": "ec8f4ef9",
   "metadata": {},
   "outputs": [],
   "source": [
    "from docx import Document\n",
    "import pandas as pd\n",
    "\n",
    "def docx_to_dataframe(file_path):\n",
    "    doc = Document(file_path)\n",
    "    data = []\n",
    "\n",
    "    for table in doc.tables:\n",
    "        for row in table.rows:\n",
    "            row_data = [cell.text.strip() for cell in row.cells]\n",
    "            data.append(row_data)\n",
    "    \n",
    "    return pd.DataFrame(data[1:], columns=data[:1])"
   ]
  },
  {
   "cell_type": "code",
   "execution_count": 34,
   "id": "20e7b9ef",
   "metadata": {},
   "outputs": [
    {
     "data": {
      "text/plain": [
       "{'.docx': ['./files/5.docx',\n",
       "  './files/2.docx',\n",
       "  './files/1.docx',\n",
       "  './files/3.docx'],\n",
       " '.pdf': ['./files/4.pdf']}"
      ]
     },
     "execution_count": 34,
     "metadata": {},
     "output_type": "execute_result"
    }
   ],
   "source": [
    "files_by_format"
   ]
  },
  {
   "cell_type": "code",
   "execution_count": 93,
   "id": "c981ecf4",
   "metadata": {},
   "outputs": [],
   "source": [
    "data_to_extract = []\n",
    "for docx_path in files_by_format[\".docx\"]:\n",
    "    docx_df = docx_to_dataframe(docx_path)\n",
    "    docx_df[\"document_from\"] = docx_path\n",
    "    docx_df.columns = [col[0].replace('\\n', ' ') if isinstance(col, tuple) else col for col in docx_df.columns]\n",
    "    data_to_extract.append(docx_df.to_dict(\"records\"))"
   ]
  },
  {
   "cell_type": "code",
   "execution_count": 96,
   "id": "c48e7c22",
   "metadata": {},
   "outputs": [],
   "source": [
    "def convert_to_text(data):\n",
    "    headers = [key for key in data[0].keys()]\n",
    "    result = '; '.join(headers) + '\\n'\n",
    "    \n",
    "    for i, item in enumerate(data, 1):\n",
    "        row = \"\"\n",
    "        for header in headers:\n",
    "            row += item[header].replace('\\n', ' ') + \"; \"\n",
    "        result += row + '\\n'\n",
    "    \n",
    "    return result"
   ]
  },
  {
   "cell_type": "code",
   "execution_count": 117,
   "id": "71180fcc",
   "metadata": {},
   "outputs": [],
   "source": [
    "from langchain_openai import ChatOpenAI\n",
    "from langchain_core.prompts import PromptTemplate\n",
    "from langchain_core.output_parsers import JsonOutputParser\n",
    "\n",
    "def extract_columns_info_from_text(text, column_names: list[str]):\n",
    "    required_fields = \"\\n- \".join(column_names)\n",
    "    example_element = {column: f\"data{i}\" for i, column in enumerate(column_names)}\n",
    "    llm = ChatOpenAI(model=\"gpt-4o-mini\")\n",
    "    prompt = PromptTemplate(template=\"\"\"Analyze the provided data and extract information for the following fields for each item:\n",
    "\n",
    "**Required Fields:**{required_fields}\n",
    "\n",
    "**Processing Rules:**\n",
    "1. Extract data strictly from the provided table.\n",
    "2. For technical specifications, highlight only the most important parameters (power, voltage, protection rating, dimensions, etc.).\n",
    "3. Preserve the original wording from the product name.\n",
    "4. Ignore empty lines and separators.\n",
    "\n",
    "**Required Output Format:**\n",
    "Return the result as a JSON array, where each element is an object with the fields:{required_fields}\n",
    "This fields you never change!\n",
    "\n",
    "Example element:\n",
    "{example_element}\n",
    "\n",
    "**Data to process:**\n",
    "{text}\"\"\", input_variables=[\"required_fields\", \"example_element\", \"text\"])\n",
    "    \n",
    "    chain = prompt | llm | JsonOutputParser()\n",
    "\n",
    "    response = chain.invoke({\"required_fields\": required_fields, \"example_element\": example_element, \"text\": text})\n",
    "    \n",
    "    return response"
   ]
  },
  {
   "cell_type": "code",
   "execution_count": 118,
   "id": "7c6bd3fe",
   "metadata": {},
   "outputs": [],
   "source": [
    "data_for_df = []"
   ]
  },
  {
   "cell_type": "code",
   "execution_count": 119,
   "id": "e2eb1b47",
   "metadata": {},
   "outputs": [],
   "source": [
    "for data in data_to_extract:\n",
    "    document_from = data[0][\"document_from\"]\n",
    "    \n",
    "    text = convert_to_text([\n",
    "        {key: value for key, value in item.items() if key != 'document_from'}\n",
    "        for item in data\n",
    "    ])\n",
    "    columns = [\"Количество\", \"Единица измерения\"]\n",
    "    result = extract_columns_info_from_text(text, columns)\n",
    "    for i, count_and_metric in enumerate(result):\n",
    "        data_for_df.append([i+1, count_and_metric[\"Количество\"], count_and_metric[\"Единица измерения\"], document_from])\n"
   ]
  },
  {
   "cell_type": "code",
   "execution_count": 120,
   "id": "379f943f",
   "metadata": {},
   "outputs": [
    {
     "data": {
      "text/plain": [
       "[[1, '22', 'шт', './files/5.docx'],\n",
       " [2, '15', 'шт', './files/5.docx'],\n",
       " [3, '53', 'шт', './files/5.docx'],\n",
       " [4, '111', 'шт', './files/5.docx'],\n",
       " [5, '20', 'шт', './files/5.docx'],\n",
       " [6, '60', 'шт', './files/5.docx'],\n",
       " [7, '250', 'шт', './files/5.docx'],\n",
       " [8, '52', 'м', './files/5.docx'],\n",
       " [9, '5', 'шт', './files/5.docx'],\n",
       " [10, '27', 'шт', './files/5.docx'],\n",
       " [1, '2073', 'шт.', './files/2.docx'],\n",
       " [2, '103', 'шт.', './files/2.docx'],\n",
       " [3, '2115', 'шт.', './files/2.docx'],\n",
       " [4, '319', 'шт.', './files/2.docx'],\n",
       " [5, '15', 'шт.', './files/2.docx'],\n",
       " [6, '423', 'шт.', './files/2.docx'],\n",
       " [7, '49', 'шт.', './files/2.docx'],\n",
       " [8, '381', 'шт.', './files/2.docx'],\n",
       " [9, '21', 'шт.', './files/2.docx'],\n",
       " [10, '429', 'шт.', './files/2.docx'],\n",
       " [11, '116', 'шт.', './files/2.docx'],\n",
       " [12, '1266', 'шт.', './files/2.docx'],\n",
       " [13, '181', 'шт.', './files/2.docx'],\n",
       " [1, '5 шт', 'шт', './files/1.docx'],\n",
       " [2, '10 шт', 'шт', './files/1.docx'],\n",
       " [3, '5 шт', 'шт', './files/1.docx'],\n",
       " [4, '55 шт', 'шт', './files/1.docx'],\n",
       " [5, '5 шт', 'шт', './files/1.docx'],\n",
       " [6, '10 шт', 'шт', './files/1.docx'],\n",
       " [7, '30 шт', 'шт', './files/1.docx'],\n",
       " [8, '20 шт', 'шт', './files/1.docx'],\n",
       " [9, '20 шт', 'шт', './files/1.docx'],\n",
       " [10, '12 шт', 'шт', './files/1.docx'],\n",
       " [11, '20 шт', 'шт', './files/1.docx'],\n",
       " [12, '155 шт', 'шт', './files/1.docx'],\n",
       " [13, '50 шт', 'шт', './files/1.docx'],\n",
       " [14, '260 шт', 'шт', './files/1.docx'],\n",
       " [15, '21 шт', 'шт', './files/1.docx'],\n",
       " [16, '10 шт', 'шт', './files/1.docx'],\n",
       " [17, '5 шт', 'шт', './files/1.docx'],\n",
       " [18, '5 шт', 'шт', './files/1.docx'],\n",
       " [19, '10 шт', 'шт', './files/1.docx'],\n",
       " [20, '10 шт', 'шт', './files/1.docx'],\n",
       " [1, '2', 'шт.', './files/3.docx'],\n",
       " [2, '1', 'шт.', './files/3.docx'],\n",
       " [3, '12', 'шт.', './files/3.docx'],\n",
       " [4, '12', 'шт.', './files/3.docx'],\n",
       " [5, '34', 'шт.', './files/3.docx'],\n",
       " [6, '41', 'шт.', './files/3.docx'],\n",
       " [7, '2', 'шт.', './files/3.docx']]"
      ]
     },
     "execution_count": 120,
     "metadata": {},
     "output_type": "execute_result"
    }
   ],
   "source": [
    "data_for_df"
   ]
  },
  {
   "cell_type": "markdown",
   "id": "7f0656ef",
   "metadata": {},
   "source": [
    "For pdf using llm"
   ]
  },
  {
   "cell_type": "code",
   "execution_count": 121,
   "id": "520bab1f",
   "metadata": {},
   "outputs": [],
   "source": [
    "import pymupdf4llm\n",
    "def convert_pdf_to_md_text(file_path):\n",
    "    md_text = pymupdf4llm.to_markdown(file_path)\n",
    "    return md_text"
   ]
  },
  {
   "cell_type": "code",
   "execution_count": 122,
   "id": "2157a8ac",
   "metadata": {},
   "outputs": [],
   "source": [
    "md_text = convert_pdf_to_md_text(files_by_format[\".pdf\"][0])"
   ]
  },
  {
   "cell_type": "code",
   "execution_count": 123,
   "id": "0e5254ee",
   "metadata": {},
   "outputs": [],
   "source": [
    "from langchain_openai import ChatOpenAI\n",
    "from langchain_core.output_parsers import JsonOutputParser\n",
    "\n",
    "def extract_column_info_from_md_text(md_text, column_names: list[str]):\n",
    "    required_fields = \"; \".join(column_names)\n",
    "    example_element = {column: f\"data{i}\" for i, column in enumerate(column_names)}\n",
    "    llm = ChatOpenAI(model=\"gpt-4o-mini\")\n",
    "\n",
    "    prompt = f\"\"\"Analyze the provided table in Markdown format. Your task is to accurately extract the values from the specified field.\n",
    "\n",
    "    **Processing Rules:**\n",
    "    1.  Carefully match the table column headers with the requested field.\n",
    "    2.  Ignore line breaks within cells (such as `<br>` tags or line feeds). Treat the cell content as a single, continuous text.\n",
    "    3.  If the requested field is absent from the table or the value is not specified, return \"Data is unavailable\".\n",
    "\n",
    "    **Table for analysis:**\n",
    "    {md_text}\n",
    "    **Task:**\n",
    "    Extract the values from the **{required_fields}** columns for all products.\n",
    "\n",
    "    **Required Output Format:**\n",
    "Return the result as a JSON array, where each element is an object with the fields:{required_fields}\n",
    "\n",
    "    **Example Response:**{example_element}\"\"\"\n",
    "\n",
    "    response = llm.invoke(prompt)\n",
    "    parser = JsonOutputParser()\n",
    "    result = parser.parse(response.content if isinstance(response.content, str) else \"[]\")\n",
    "    return result"
   ]
  },
  {
   "cell_type": "code",
   "execution_count": null,
   "id": "1e14f7a9",
   "metadata": {},
   "outputs": [],
   "source": [
    "result = extract_column_info_from_md_text(md_text, [\"Количество\", \"Единица измерения\"])"
   ]
  },
  {
   "cell_type": "code",
   "execution_count": null,
   "id": "4fde8995",
   "metadata": {},
   "outputs": [],
   "source": [
    "for i, count_and_metric in enumerate(result):\n",
    "    data_for_df.append([i+1, count_and_metric[\"Количество\"], count_and_metric[\"Единица измерения\"], files_by_format[\".pdf\"][0]])"
   ]
  },
  {
   "cell_type": "code",
   "execution_count": 127,
   "id": "c5138e11",
   "metadata": {},
   "outputs": [],
   "source": [
    "df = pd.DataFrame(data_for_df, columns=[\"№\", \"Количество\", \"Единица измерения\", \"document_from\"])"
   ]
  },
  {
   "cell_type": "code",
   "execution_count": 129,
   "id": "eab1e684",
   "metadata": {},
   "outputs": [],
   "source": [
    "df.to_excel(\"./results/extract2.xlsx\", index=False)"
   ]
  },
  {
   "cell_type": "code",
   "execution_count": null,
   "id": "d6d66875",
   "metadata": {},
   "outputs": [],
   "source": []
  }
 ],
 "metadata": {
  "kernelspec": {
   "display_name": "ner-with-llm",
   "language": "python",
   "name": "python3"
  },
  "language_info": {
   "codemirror_mode": {
    "name": "ipython",
    "version": 3
   },
   "file_extension": ".py",
   "mimetype": "text/x-python",
   "name": "python",
   "nbconvert_exporter": "python",
   "pygments_lexer": "ipython3",
   "version": "3.11.12"
  }
 },
 "nbformat": 4,
 "nbformat_minor": 5
}
