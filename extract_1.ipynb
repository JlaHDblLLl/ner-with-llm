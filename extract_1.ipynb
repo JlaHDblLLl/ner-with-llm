{
 "cells": [
  {
   "cell_type": "markdown",
   "id": "3f2e8f34",
   "metadata": {},
   "source": [
    "### First task\n",
    "Extract product names from the specified files and generate an Excel file with serial numbers and names."
   ]
  },
  {
   "cell_type": "code",
   "execution_count": 4,
   "id": "3b99fcec",
   "metadata": {},
   "outputs": [],
   "source": [
    "import os\n",
    "from collections import defaultdict\n",
    "def get_files_by_format(folder_path):\n",
    "    files_by_format = defaultdict(list)\n",
    "\n",
    "    for root, dirs, files in os.walk(folder_path):\n",
    "        for file in files:\n",
    "            file_path = os.path.join(root, file)\n",
    "            \n",
    "            _, extension = os.path.splitext(file)\n",
    "            format_name = extension.lower() if extension else '<empty>'\n",
    "            \n",
    "            files_by_format[format_name].append(file_path)\n",
    "    \n",
    "    return dict(files_by_format)"
   ]
  },
  {
   "cell_type": "code",
   "execution_count": 5,
   "id": "25b7bb2d",
   "metadata": {},
   "outputs": [],
   "source": [
    "files_by_format = get_files_by_format(\"./files\")"
   ]
  },
  {
   "cell_type": "code",
   "execution_count": 9,
   "id": "ec8f4ef9",
   "metadata": {},
   "outputs": [],
   "source": [
    "from docx import Document\n",
    "import pandas as pd\n",
    "\n",
    "def docx_to_dataframe(file_path):\n",
    "    doc = Document(file_path)\n",
    "    data = []\n",
    "\n",
    "    for table in doc.tables:\n",
    "        for row in table.rows:\n",
    "            row_data = [cell.text.strip() for cell in row.cells]\n",
    "            data.append(row_data)\n",
    "    \n",
    "    return pd.DataFrame(data[1:], columns=data[:1])"
   ]
  },
  {
   "cell_type": "code",
   "execution_count": 21,
   "id": "20e7b9ef",
   "metadata": {},
   "outputs": [
    {
     "data": {
      "text/plain": [
       "{'.docx': ['./files/5.docx',\n",
       "  './files/2.docx',\n",
       "  './files/1.docx',\n",
       "  './files/3.docx'],\n",
       " '.pdf': ['./files/4.pdf']}"
      ]
     },
     "execution_count": 21,
     "metadata": {},
     "output_type": "execute_result"
    }
   ],
   "source": [
    "files_by_format"
   ]
  },
  {
   "cell_type": "code",
   "execution_count": null,
   "id": "c981ecf4",
   "metadata": {},
   "outputs": [],
   "source": [
    "data = []\n",
    "for docx_path in files_by_format[\".docx\"]:\n",
    "    docx_df = docx_to_dataframe(docx_path)\n",
    "\n",
    "    product_names = docx_df.iloc[:,1]\n",
    "    for i, product_name in enumerate(product_names):\n",
    "        data.append([i+1, product_name, docx_path])"
   ]
  },
  {
   "cell_type": "markdown",
   "id": "7f0656ef",
   "metadata": {},
   "source": [
    "For pdf using llm"
   ]
  },
  {
   "cell_type": "code",
   "execution_count": 57,
   "id": "520bab1f",
   "metadata": {},
   "outputs": [],
   "source": [
    "import pymupdf4llm\n",
    "def convert_pdf_to_md_text(file_path):\n",
    "    md_text = pymupdf4llm.to_markdown(file_path)\n",
    "    return md_text"
   ]
  },
  {
   "cell_type": "code",
   "execution_count": 58,
   "id": "2157a8ac",
   "metadata": {},
   "outputs": [],
   "source": [
    "md_text = convert_pdf_to_md_text(files_by_format[\".pdf\"][0])"
   ]
  },
  {
   "cell_type": "code",
   "execution_count": 59,
   "id": "0e5254ee",
   "metadata": {},
   "outputs": [],
   "source": [
    "from langchain_openai import ChatOpenAI\n",
    "\n",
    "def extract_column_info_from_md_text(md_text, column_name):\n",
    "    llm = ChatOpenAI(model=\"gpt-4o-mini\")\n",
    "    prompt = f\"\"\"Analyze the provided table in Markdown format. Your task is to accurately extract the value from the specified field.\n",
    "\n",
    "    **Processing Rules:**\n",
    "    1.  Carefully match the table column headers with the requested field.\n",
    "    2.  Ignore line breaks within cells (such as `<br>` tags or line feeds). Treat the cell content as a single, continuous text.\n",
    "    3.  If the requested field is absent from the table or the value is not specified, return \"Data is unavailable\".\n",
    "\n",
    "    **Table for analysis:**\n",
    "    {md_text}\n",
    "    **Task:**\n",
    "    Extract the value from the **{column_name}** column for all products.\n",
    "\n",
    "    **Response Format:**\n",
    "    Return ONLY the extracted values as a string, separated by ';'.\n",
    "\n",
    "    **Example Response:**\n",
    "    Name1; Name2; Name3\"\"\"\n",
    "\n",
    "    response = llm.invoke(prompt)\n",
    "    result = response.content.split(\";\") if isinstance(response.content,str) and response.content != \"Data is unavailable\" else []\n",
    "    return result"
   ]
  },
  {
   "cell_type": "code",
   "execution_count": 61,
   "id": "1e14f7a9",
   "metadata": {},
   "outputs": [],
   "source": [
    "product_names = extract_column_info_from_md_text(md_text, \"Наименование\")"
   ]
  },
  {
   "cell_type": "code",
   "execution_count": 63,
   "id": "4fde8995",
   "metadata": {},
   "outputs": [],
   "source": [
    "for i, product_name in enumerate(product_names):\n",
    "    data.append([i+1, product_name, files_by_format[\".pdf\"][0]])"
   ]
  },
  {
   "cell_type": "code",
   "execution_count": 64,
   "id": "c5138e11",
   "metadata": {},
   "outputs": [],
   "source": [
    "df = pd.DataFrame(data, columns=[\"№\", \"Наименование\", \"document_from\"])"
   ]
  },
  {
   "cell_type": "code",
   "execution_count": 70,
   "id": "eab1e684",
   "metadata": {},
   "outputs": [],
   "source": [
    "df.to_excel(\"./results/extract1.xlsx\", index=False)"
   ]
  },
  {
   "cell_type": "code",
   "execution_count": null,
   "id": "d6d66875",
   "metadata": {},
   "outputs": [],
   "source": []
  }
 ],
 "metadata": {
  "kernelspec": {
   "display_name": "ner-with-llm",
   "language": "python",
   "name": "python3"
  },
  "language_info": {
   "codemirror_mode": {
    "name": "ipython",
    "version": 3
   },
   "file_extension": ".py",
   "mimetype": "text/x-python",
   "name": "python",
   "nbconvert_exporter": "python",
   "pygments_lexer": "ipython3",
   "version": "3.11.12"
  }
 },
 "nbformat": 4,
 "nbformat_minor": 5
}
